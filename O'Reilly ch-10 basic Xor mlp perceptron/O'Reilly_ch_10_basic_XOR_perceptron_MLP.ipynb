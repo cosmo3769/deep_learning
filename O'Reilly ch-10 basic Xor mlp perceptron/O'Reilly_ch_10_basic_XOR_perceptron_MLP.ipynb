{
  "nbformat": 4,
  "nbformat_minor": 0,
  "metadata": {
    "colab": {
      "name": "O'Reilly ch 10-basic_XOR_perceptron_MLP",
      "provenance": []
    },
    "kernelspec": {
      "name": "python3",
      "display_name": "Python 3"
    },
    "language_info": {
      "name": "python"
    }
  },
  "cells": [
    {
      "cell_type": "markdown",
      "metadata": {
        "id": "JdQFMACUmvBu"
      },
      "source": [
        "# Iris dataset with Perceptron"
      ]
    },
    {
      "cell_type": "code",
      "metadata": {
        "id": "GwX5ozO8e_kt"
      },
      "source": [
        "import numpy as np\n",
        "from sklearn.datasets import load_iris\n",
        "from sklearn.linear_model import Perceptron"
      ],
      "execution_count": null,
      "outputs": []
    },
    {
      "cell_type": "code",
      "metadata": {
        "colab": {
          "base_uri": "https://localhost:8080/",
          "height": 206
        },
        "id": "YbTQAq1_fVUT",
        "outputId": "a96e6b84-16f6-4c70-d0f1-33418b73465d"
      },
      "source": [
        "iris = load_iris()\n",
        "import pandas as pd\n",
        "df = pd.DataFrame(iris.data, columns=iris.feature_names)\n",
        "df.head()"
      ],
      "execution_count": null,
      "outputs": [
        {
          "output_type": "execute_result",
          "data": {
            "text/html": [
              "<div>\n",
              "<style scoped>\n",
              "    .dataframe tbody tr th:only-of-type {\n",
              "        vertical-align: middle;\n",
              "    }\n",
              "\n",
              "    .dataframe tbody tr th {\n",
              "        vertical-align: top;\n",
              "    }\n",
              "\n",
              "    .dataframe thead th {\n",
              "        text-align: right;\n",
              "    }\n",
              "</style>\n",
              "<table border=\"1\" class=\"dataframe\">\n",
              "  <thead>\n",
              "    <tr style=\"text-align: right;\">\n",
              "      <th></th>\n",
              "      <th>sepal length (cm)</th>\n",
              "      <th>sepal width (cm)</th>\n",
              "      <th>petal length (cm)</th>\n",
              "      <th>petal width (cm)</th>\n",
              "    </tr>\n",
              "  </thead>\n",
              "  <tbody>\n",
              "    <tr>\n",
              "      <th>0</th>\n",
              "      <td>5.1</td>\n",
              "      <td>3.5</td>\n",
              "      <td>1.4</td>\n",
              "      <td>0.2</td>\n",
              "    </tr>\n",
              "    <tr>\n",
              "      <th>1</th>\n",
              "      <td>4.9</td>\n",
              "      <td>3.0</td>\n",
              "      <td>1.4</td>\n",
              "      <td>0.2</td>\n",
              "    </tr>\n",
              "    <tr>\n",
              "      <th>2</th>\n",
              "      <td>4.7</td>\n",
              "      <td>3.2</td>\n",
              "      <td>1.3</td>\n",
              "      <td>0.2</td>\n",
              "    </tr>\n",
              "    <tr>\n",
              "      <th>3</th>\n",
              "      <td>4.6</td>\n",
              "      <td>3.1</td>\n",
              "      <td>1.5</td>\n",
              "      <td>0.2</td>\n",
              "    </tr>\n",
              "    <tr>\n",
              "      <th>4</th>\n",
              "      <td>5.0</td>\n",
              "      <td>3.6</td>\n",
              "      <td>1.4</td>\n",
              "      <td>0.2</td>\n",
              "    </tr>\n",
              "  </tbody>\n",
              "</table>\n",
              "</div>"
            ],
            "text/plain": [
              "   sepal length (cm)  sepal width (cm)  petal length (cm)  petal width (cm)\n",
              "0                5.1               3.5                1.4               0.2\n",
              "1                4.9               3.0                1.4               0.2\n",
              "2                4.7               3.2                1.3               0.2\n",
              "3                4.6               3.1                1.5               0.2\n",
              "4                5.0               3.6                1.4               0.2"
            ]
          },
          "metadata": {
            "tags": []
          },
          "execution_count": 5
        }
      ]
    },
    {
      "cell_type": "code",
      "metadata": {
        "colab": {
          "base_uri": "https://localhost:8080/"
        },
        "id": "4TIVm5ptfhDc",
        "outputId": "2b1ade92-8523-48d4-8676-6e1457fec777"
      },
      "source": [
        "X = iris.data[:, (2,3)]\n",
        "y = (iris.target == 0).astype(np.int)\n",
        "y"
      ],
      "execution_count": null,
      "outputs": [
        {
          "output_type": "execute_result",
          "data": {
            "text/plain": [
              "array([1, 1, 1, 1, 1, 1, 1, 1, 1, 1, 1, 1, 1, 1, 1, 1, 1, 1, 1, 1, 1, 1,\n",
              "       1, 1, 1, 1, 1, 1, 1, 1, 1, 1, 1, 1, 1, 1, 1, 1, 1, 1, 1, 1, 1, 1,\n",
              "       1, 1, 1, 1, 1, 1, 0, 0, 0, 0, 0, 0, 0, 0, 0, 0, 0, 0, 0, 0, 0, 0,\n",
              "       0, 0, 0, 0, 0, 0, 0, 0, 0, 0, 0, 0, 0, 0, 0, 0, 0, 0, 0, 0, 0, 0,\n",
              "       0, 0, 0, 0, 0, 0, 0, 0, 0, 0, 0, 0, 0, 0, 0, 0, 0, 0, 0, 0, 0, 0,\n",
              "       0, 0, 0, 0, 0, 0, 0, 0, 0, 0, 0, 0, 0, 0, 0, 0, 0, 0, 0, 0, 0, 0,\n",
              "       0, 0, 0, 0, 0, 0, 0, 0, 0, 0, 0, 0, 0, 0, 0, 0, 0, 0])"
            ]
          },
          "metadata": {
            "tags": []
          },
          "execution_count": 10
        }
      ]
    },
    {
      "cell_type": "code",
      "metadata": {
        "colab": {
          "base_uri": "https://localhost:8080/"
        },
        "id": "F_7rmUe9k6c2",
        "outputId": "58bf91d4-95bd-4bf0-e2cb-32b9e8b81596"
      },
      "source": [
        "per_clf = Perceptron()\n",
        "per_clf.fit(X,y)"
      ],
      "execution_count": null,
      "outputs": [
        {
          "output_type": "execute_result",
          "data": {
            "text/plain": [
              "Perceptron(alpha=0.0001, class_weight=None, early_stopping=False, eta0=1.0,\n",
              "           fit_intercept=True, max_iter=1000, n_iter_no_change=5, n_jobs=None,\n",
              "           penalty=None, random_state=0, shuffle=True, tol=0.001,\n",
              "           validation_fraction=0.1, verbose=0, warm_start=False)"
            ]
          },
          "metadata": {
            "tags": []
          },
          "execution_count": 11
        }
      ]
    },
    {
      "cell_type": "code",
      "metadata": {
        "id": "o6TJSgDYl6sO"
      },
      "source": [
        "y_pred = per_clf.predict([[2, 0.5]])"
      ],
      "execution_count": null,
      "outputs": []
    },
    {
      "cell_type": "code",
      "metadata": {
        "colab": {
          "base_uri": "https://localhost:8080/"
        },
        "id": "4qJ1fRatmOiy",
        "outputId": "4cc2eba3-1a11-41b7-c3fc-eeab125d5c6d"
      },
      "source": [
        "y_pred"
      ],
      "execution_count": null,
      "outputs": [
        {
          "output_type": "execute_result",
          "data": {
            "text/plain": [
              "array([0])"
            ]
          },
          "metadata": {
            "tags": []
          },
          "execution_count": 13
        }
      ]
    },
    {
      "cell_type": "markdown",
      "metadata": {
        "id": "gCvr35cummy_"
      },
      "source": [
        "# Solving XOR problem with MLP\n",
        "\n",
        "Reference Link : [xor with mlp](https://www.kaggle.com/alvations/xor-with-mlp)"
      ]
    },
    {
      "cell_type": "markdown",
      "metadata": {
        "id": "07Rqn6Sny3EN"
      },
      "source": [
        "### 1"
      ]
    },
    {
      "cell_type": "code",
      "metadata": {
        "id": "904jEidjmP_e"
      },
      "source": [
        "import numpy as np\n",
        "np.random.seed(0)\n",
        "\n",
        "def sigmoid(x): # Returns values that sums to one.\n",
        "    return 1 / (1 + np.exp(-x))\n",
        "\n",
        "def sigmoid_derivative(sx):\n",
        "    # See https://math.stackexchange.com/a/1225116\n",
        "    return sx * (1 - sx)\n",
        "\n",
        "# Cost functions.\n",
        "def cost(predicted, truth):\n",
        "    return truth - predicted\n",
        "\n",
        "xor_input = np.array([[0,0], [0,1], [1,0], [1,1]])\n",
        "xor_output = np.array([[0,1,1,0]]).T\n",
        "\n",
        "# Lets drop the last row of data and use that as unseen test.\n",
        "X = xor_input\n",
        "Y = xor_output\n",
        "\n",
        "# Define the shape of the weight vector.\n",
        "num_data, input_dim = X.shape\n",
        "\n",
        "# Lets set the dimensions for the intermediate layer.\n",
        "hidden_dim = 5\n",
        "\n",
        "# Initialize weights between the input layers and the hidden layer.\n",
        "W1 = np.random.random((input_dim, hidden_dim))\n",
        "\n",
        "# Define the shape of the output vector. \n",
        "output_dim = len(Y.T)\n",
        "\n",
        "# Initialize weights between the hidden layers and the output layer.\n",
        "W2 = np.random.random((hidden_dim, output_dim))\n",
        "\n",
        "num_epochs = 10000\n",
        "learning_rate = 1.0\n",
        "\n",
        "\n",
        "for epoch_n in range(num_epochs):\n",
        "    layer0 = X\n",
        "    # Forward propagation.\n",
        "    \n",
        "    # Inside the perceptron, Step 2. \n",
        "    layer1 = sigmoid(np.dot(layer0, W1))\n",
        "    layer2 = sigmoid(np.dot(layer1, W2))\n",
        "\n",
        "    # Back propagation (Y -> layer2)\n",
        "    \n",
        "    # How much did we miss in the predictions?\n",
        "    layer2_error = cost(layer2, Y)\n",
        "    \n",
        "    # In what direction is the target value?\n",
        "    # Were we really close? If so, don't change too much.\n",
        "    layer2_delta = layer2_error * sigmoid_derivative(layer2)\n",
        "    \n",
        "    # Back propagation (layer2 -> layer1)\n",
        "    # How much did each layer1 value contribute to the layer2 error (according to the weights)?\n",
        "    layer1_error = np.dot(layer2_delta, W2.T)\n",
        "    layer1_delta = layer1_error * sigmoid_derivative(layer1)\n",
        "    \n",
        "    # update weights\n",
        "    W2 +=  learning_rate * np.dot(layer1.T, layer2_delta)\n",
        "    W1 +=  learning_rate * np.dot(layer0.T, layer1_delta)"
      ],
      "execution_count": null,
      "outputs": []
    },
    {
      "cell_type": "code",
      "metadata": {
        "colab": {
          "base_uri": "https://localhost:8080/"
        },
        "id": "BZMKJe8HmaLl",
        "outputId": "fc284e4d-f0e9-4e31-b2ba-2fdc4ea90a9f"
      },
      "source": [
        "for x, y in zip(X, Y):\n",
        "    layer1_prediction = sigmoid(np.dot(W1.T, x)) # Feed the unseen input into trained W.\n",
        "    prediction = layer2_prediction = sigmoid(np.dot(W2.T, layer1_prediction)) # Feed the unseen input into trained W.\n",
        "    print(int(prediction > 0.5), y)"
      ],
      "execution_count": null,
      "outputs": [
        {
          "output_type": "stream",
          "text": [
            "0 [0]\n",
            "1 [1]\n",
            "1 [1]\n",
            "0 [0]\n"
          ],
          "name": "stdout"
        }
      ]
    },
    {
      "cell_type": "markdown",
      "metadata": {
        "id": "5aRRByUgy0Ix"
      },
      "source": [
        "### 2"
      ]
    },
    {
      "cell_type": "code",
      "metadata": {
        "id": "H6HH9QQExxH1"
      },
      "source": [
        "import numpy as np\n",
        "import random\n",
        "random.seed(0)\n",
        "\n",
        "def generate_zero():\n",
        "    return random.uniform(0, 49) / 100\n",
        "\n",
        "def generate_one():\n",
        "    return random.uniform(50, 100) / 100\n",
        "\n",
        "\n",
        "def generate_xor_XY(num_data_points):\n",
        "    Xs, Ys = [], []\n",
        "    for _ in range(num_data_points):\n",
        "        # xor(0, 0) -> 0 \n",
        "        Xs.append([generate_zero(), generate_zero()]); Ys.append([0])\n",
        "        # xor(1, 0) -> 1\n",
        "        Xs.append([generate_one(), generate_zero()]); Ys.append([1])\n",
        "        # xor(0, 1) -> 1\n",
        "        Xs.append([generate_zero(), generate_one()]); Ys.append([1])\n",
        "        # xor(1, 1) -> 0\n",
        "        Xs.append([generate_one(), generate_one()]); Ys.append([0])\n",
        "    return Xs, Ys"
      ],
      "execution_count": null,
      "outputs": []
    },
    {
      "cell_type": "code",
      "metadata": {
        "colab": {
          "base_uri": "https://localhost:8080/"
        },
        "id": "Pmyt-x7gx2E4",
        "outputId": "24997691-f7a5-4b0f-c21d-b68fdf549bf2"
      },
      "source": [
        "X, Y = generate_xor_XY(100)\n",
        "X = np.array(X)\n",
        "Y = np.array(Y)\n",
        "\n",
        "# First 20 instance of new data.\n",
        "for i, (x, y) in enumerate(zip(X, Y)):\n",
        "    if i > 20:\n",
        "        break\n",
        "    print(x, [int(_x > 0.5) for _x in x],  y)"
      ],
      "execution_count": null,
      "outputs": [
        {
          "output_type": "stream",
          "text": [
            "[0.41376671 0.37139766] [0, 0] [0]\n",
            "[0.71028579 0.12686921] [1, 0] [1]\n",
            "[0.25052461 0.70246707] [0, 1] [1]\n",
            "[0.89189929 0.65165636] [1, 1] [0]\n",
            "[0.23353251 0.2858572 ] [0, 0] [0]\n",
            "[0.95405644 0.24729656] [1, 0] [1]\n",
            "[0.13810054 0.8779021 ] [0, 1] [1]\n",
            "[0.8091845  0.62525317] [1, 1] [0]\n",
            "[0.44577567 0.48156488] [0, 0] [0]\n",
            "[0.90510862 0.44206132] [1, 0] [1]\n",
            "[0.15197231 0.86491587] [0, 1] [1]\n",
            "[0.94941914 0.84199197] [1, 1] [0]\n",
            "[0.23134993 0.04934359] [0, 0] [0]\n",
            "[0.71708592 0.29933462] [1, 0] [1]\n",
            "[0.44737542 0.98330318] [0, 1] [1]\n",
            "[0.73850489 0.93265496] [1, 1] [0]\n",
            "[0.12764123 0.39446364] [0, 0] [0]\n",
            "[0.77434965 0.00688043] [1, 0] [1]\n",
            "[0.3526553  0.69941177] [0, 1] [1]\n",
            "[0.91242249 0.8340766 ] [1, 1] [0]\n",
            "[0.00055998 0.24185315] [0, 0] [0]\n"
          ],
          "name": "stdout"
        }
      ]
    },
    {
      "cell_type": "code",
      "metadata": {
        "id": "j48lC7V_s7Ks"
      },
      "source": [
        "def sigmoid(x): # Returns values that sums to one.\n",
        "    return 1 / (1 + np.exp(-x))\n",
        "\n",
        "def sigmoid_derivative(sx):\n",
        "    # See https://math.stackexchange.com/a/1225116\n",
        "    return sx * (1 - sx)\n",
        "\n",
        "# Cost functions.\n",
        "def cost(predicted, truth):\n",
        "    return truth - predicted\n",
        "\n",
        "# Shuffle the order of the inputs\n",
        "_temp = list(zip(X, Y))\n",
        "random.shuffle(_temp)\n",
        "xor_input_shuff, xor_output_shuff = map(np.array, zip(*_temp))\n",
        "\n",
        "# Lets split the data to 90-10. \n",
        "train_split = int(len(X) / 100 * 90)\n",
        "X_train = xor_input_shuff[:train_split]\n",
        "Y_train = xor_output_shuff[:train_split]\n",
        "\n",
        "X_test = xor_input_shuff[train_split:]\n",
        "Y_test = xor_output_shuff[train_split:]\n",
        "\n",
        "# Define the shape of the weight vector.\n",
        "num_data, input_dim = X_train.shape\n",
        "# Lets set the dimensions for the intermediate layer.\n",
        "hidden_dim = 5\n",
        "# Initialize weights between the input layers and the hidden layer.\n",
        "W1 = np.random.random((input_dim, hidden_dim))\n",
        "\n",
        "# Define the shape of the output vector. \n",
        "output_dim = len(Y_train.T)\n",
        "# Initialize weights between the hidden layers and the output layer.\n",
        "W2 = np.random.random((hidden_dim, output_dim))\n",
        "\n",
        "num_epochs = 2000\n",
        "learning_rate = 0.03\n",
        "\n",
        "for epoch_n in range(num_epochs):\n",
        "    layer0 = X_train\n",
        "    # Forward propagation.\n",
        "    \n",
        "    # Inside the perceptron, Step 2. \n",
        "    layer1 = sigmoid(np.dot(layer0, W1))\n",
        "    layer2 = sigmoid(np.dot(layer1, W2))\n",
        "\n",
        "    # Back propagation (Y -> layer2)\n",
        "    \n",
        "    # How much did we miss in the predictions?\n",
        "    layer2_error = cost(layer2, Y_train)\n",
        "    # In what direction is the target value?\n",
        "    # Were we really close? If so, don't change too much.\n",
        "    layer2_delta = layer2_error * sigmoid_derivative(layer2)\n",
        "\n",
        "    \n",
        "    # Back propagation (layer2 -> layer1)\n",
        "    # How much did each layer1 value contribute to the layer2 error (according to the weights)?\n",
        "    layer1_error = np.dot(layer2_delta, W2.T)\n",
        "    layer1_delta = layer1_error * sigmoid_derivative(layer1)\n",
        "    \n",
        "    # update weights\n",
        "    W2 +=  learning_rate * np.dot(layer1.T, layer2_delta)\n",
        "    W1 +=  learning_rate * np.dot(layer0.T, layer1_delta)"
      ],
      "execution_count": null,
      "outputs": []
    },
    {
      "cell_type": "code",
      "metadata": {
        "colab": {
          "base_uri": "https://localhost:8080/"
        },
        "id": "2T1yLVRtvxEz",
        "outputId": "ff015923-7b0a-4487-aa9f-b322ecc45eb3"
      },
      "source": [
        "accurate = 0\n",
        "for x, y in zip(X_test, Y_test):\n",
        "  \n",
        "    layer1_prediction = sigmoid(np.dot(W1.T, x)) # Feed the unseen input into trained W.\n",
        "    prediction = layer2_prediction = sigmoid(np.dot(W2.T, layer1_prediction)) # Feed the unseen input into trained W.\n",
        "    print(x, [int(_x > 0.5) for _x in x], int(prediction > 0.5), y)\n",
        "    accurate += int(prediction > 0.5) == y"
      ],
      "execution_count": null,
      "outputs": [
        {
          "output_type": "stream",
          "text": [
            "[0.64004419 0.99200757] [1, 1] 0 [0]\n",
            "[0.50764257 0.92197734] [1, 1] 1 [0]\n",
            "[0.15299373 0.9299972 ] [0, 1] 1 [1]\n",
            "[0.42099605 0.59349585] [0, 1] 0 [1]\n",
            "[0.89825851 0.63848512] [1, 1] 0 [0]\n",
            "[0.8091845  0.62525317] [1, 1] 0 [0]\n",
            "[0.24678189 0.51968935] [0, 1] 1 [1]\n",
            "[0.6200652  0.97656467] [1, 1] 0 [0]\n",
            "[0.11385773 0.88099751] [0, 1] 1 [1]\n",
            "[0.41201568 0.98811473] [0, 1] 1 [1]\n",
            "[0.51535042 0.21889211] [1, 0] 1 [1]\n",
            "[0.73633279 0.20340263] [1, 0] 1 [1]\n",
            "[0.95054524 0.7512143 ] [1, 1] 0 [0]\n",
            "[0.63735692 0.72648909] [1, 1] 0 [0]\n",
            "[0.97398068 0.60794718] [1, 1] 0 [0]\n",
            "[0.5901947  0.74500673] [1, 1] 0 [0]\n",
            "[0.7443094  0.28659546] [1, 0] 1 [1]\n",
            "[0.99647589 0.05026442] [1, 0] 1 [1]\n",
            "[0.79814343 0.18860156] [1, 0] 1 [1]\n",
            "[0.31888379 0.67352651] [0, 1] 1 [1]\n",
            "[0.22585622 0.86230241] [0, 1] 1 [1]\n",
            "[0.91136571 0.25888953] [1, 0] 1 [1]\n",
            "[0.20321359 0.04870617] [0, 0] 0 [0]\n",
            "[0.08244515 0.71085495] [0, 1] 1 [1]\n",
            "[0.70431311 0.70861274] [1, 1] 0 [0]\n",
            "[0.1302773  0.02146555] [0, 0] 0 [0]\n",
            "[0.16635683 0.55116943] [0, 1] 1 [1]\n",
            "[0.61007976 0.09613539] [1, 0] 1 [1]\n",
            "[0.55009034 0.41842967] [1, 0] 0 [1]\n",
            "[0.85906583 0.90352769] [1, 1] 0 [0]\n",
            "[0.57128374 0.22659332] [1, 0] 1 [1]\n",
            "[0.96709173 0.03544549] [1, 0] 1 [1]\n",
            "[0.28221694 0.19169261] [0, 0] 0 [0]\n",
            "[0.77424215 0.6467035 ] [1, 1] 0 [0]\n",
            "[0.3362853  0.87097693] [0, 1] 1 [1]\n",
            "[0.26235399 0.29332099] [0, 0] 0 [0]\n",
            "[0.0178321  0.51081825] [0, 1] 1 [1]\n",
            "[0.90158973 0.21950509] [1, 0] 1 [1]\n",
            "[0.69170704 0.88820995] [1, 1] 0 [0]\n",
            "[0.96856342 0.97907395] [1, 1] 0 [0]\n"
          ],
          "name": "stdout"
        }
      ]
    },
    {
      "cell_type": "code",
      "metadata": {
        "colab": {
          "base_uri": "https://localhost:8080/"
        },
        "id": "h0leHYsQv4s9",
        "outputId": "5acdfa7e-87ae-42dc-cdc6-bd614fceac1e"
      },
      "source": [
        "print(accurate/len(X_test))"
      ],
      "execution_count": null,
      "outputs": [
        {
          "output_type": "stream",
          "text": [
            "[0.925]\n"
          ],
          "name": "stdout"
        }
      ]
    },
    {
      "cell_type": "code",
      "metadata": {
        "id": "a_kX0Y3Cw58p"
      },
      "source": [
        ""
      ],
      "execution_count": null,
      "outputs": []
    }
  ]
}